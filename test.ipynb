{
 "cells": [
  {
   "cell_type": "code",
   "execution_count": 25,
   "metadata": {},
   "outputs": [],
   "source": [
    "import requests,json"
   ]
  },
  {
   "cell_type": "code",
   "execution_count": 26,
   "metadata": {},
   "outputs": [],
   "source": [
    "url = 'http://127.0.0.1:5000' # change to your url"
   ]
  },
  {
   "cell_type": "code",
   "execution_count": 27,
   "metadata": {},
   "outputs": [],
   "source": [
    "# sample data\n",
    "data = {'text':'All documents related to medical marijuana'}\n",
    "data = json.dumps(data)"
   ]
  },
  {
   "cell_type": "code",
   "execution_count": 28,
   "metadata": {},
   "outputs": [],
   "source": [
    "send_request = requests.post(url,data)"
   ]
  },
  {
   "cell_type": "code",
   "execution_count": 29,
   "metadata": {},
   "outputs": [
    {
     "name": "stdout",
     "output_type": "stream",
     "text": [
      "<Response [200]>\n"
     ]
    }
   ],
   "source": [
    "print(send_request)"
   ]
  },
  {
   "cell_type": "code",
   "execution_count": 30,
   "metadata": {},
   "outputs": [
    {
     "name": "stdout",
     "output_type": "stream",
     "text": [
      "{'dept': 'hc-sc', 'pct': 0.58}\n"
     ]
    }
   ],
   "source": [
    "print(send_request.json())"
   ]
  },
  {
   "cell_type": "code",
   "execution_count": 32,
   "metadata": {},
   "outputs": [
    {
     "name": "stdout",
     "output_type": "stream",
     "text": [
      "<Response [200]>\n",
      "{'dept': 'hc-sc', 'pct': 0.62}\n",
      "<Response [200]>\n",
      "{'dept': 'pwgsc-tpsgc', 'pct': 0.66}\n",
      "<Response [200]>\n",
      "{'dept': 'hc-sc', 'pct': 0.33}\n",
      "<Response [200]>\n",
      "{'dept': 'esdc-edsc', 'pct': 0.62}\n"
     ]
    }
   ],
   "source": [
    "results = []\n",
    "queries = ['All documents relating to medical marijuana','naval procurement', 'ministerial travel', 'Employment insurance benefits']\n",
    "for data1 in queries:\n",
    "    data = json.dumps({'text':data1})\n",
    "    send_request = requests.post(url,data)\n",
    "    print(send_request)\n",
    "    print(send_request.json())\n",
    "    res = send_request.json()\n",
    "    results.append((data1,res['dept'],res['pct']))"
   ]
  },
  {
   "cell_type": "code",
   "execution_count": 8,
   "metadata": {},
   "outputs": [
    {
     "data": {
      "text/plain": [
       "[('All documents relating to medical marijuana', 'hc-sc', 0.62),\n",
       " ('naval procurement', 'pwgsc-tpsgc', 0.66),\n",
       " ('ministerial travel', 'hc-sc', 0.33),\n",
       " ('Employment insurance benefits', 'esdc-edsc', 0.62)]"
      ]
     },
     "execution_count": 8,
     "metadata": {},
     "output_type": "execute_result"
    }
   ],
   "source": [
    "results"
   ]
  },
  {
   "cell_type": "code",
   "execution_count": 9,
   "metadata": {},
   "outputs": [],
   "source": [
    "#### test online version"
   ]
  },
  {
   "cell_type": "code",
   "execution_count": 207,
   "metadata": {},
   "outputs": [
    {
     "name": "stdout",
     "output_type": "stream",
     "text": [
      "<Response [200]>\n",
      "{'results': 'ic'}\n"
     ]
    }
   ],
   "source": [
    "url = 'https://atip-triage-alldept.herokuapp.com/'\n",
    "data = {'text':'All documents related to medical marijuana'}\n",
    "data = json.dumps(data)\n",
    "send_request = requests.post(url,data)\n",
    "print(send_request)\n",
    "print(send_request.json())"
   ]
  },
  {
   "cell_type": "code",
   "execution_count": 261,
   "metadata": {},
   "outputs": [],
   "source": [
    "d={'a': \"asdasdasd\",\n",
    "  'b':'cvbcfbbcvbcvcvb'}"
   ]
  },
  {
   "cell_type": "code",
   "execution_count": 262,
   "metadata": {},
   "outputs": [
    {
     "data": {
      "text/plain": [
       "'asdasdasd'"
      ]
     },
     "execution_count": 262,
     "metadata": {},
     "output_type": "execute_result"
    }
   ],
   "source": [
    "d['a']"
   ]
  },
  {
   "cell_type": "code",
   "execution_count": 265,
   "metadata": {},
   "outputs": [
    {
     "data": {
      "text/plain": [
       "['asdasdasd']"
      ]
     },
     "execution_count": 265,
     "metadata": {},
     "output_type": "execute_result"
    }
   ],
   "source": [
    "[d.get('a')]"
   ]
  },
  {
   "cell_type": "code",
   "execution_count": 33,
   "metadata": {},
   "outputs": [],
   "source": [
    "####sector test local\n",
    "url = 'http://127.0.0.1:5000' # change to your url\n",
    "# sample data\n",
    "data = {'text':'briefing note', 'what':'ised_sector'}\n",
    "data = json.dumps(data)"
   ]
  },
  {
   "cell_type": "code",
   "execution_count": 34,
   "metadata": {},
   "outputs": [],
   "source": [
    "send_request = requests.post(url,data)"
   ]
  },
  {
   "cell_type": "code",
   "execution_count": 35,
   "metadata": {},
   "outputs": [
    {
     "name": "stdout",
     "output_type": "stream",
     "text": [
      "<Response [200]>\n"
     ]
    }
   ],
   "source": [
    "print(send_request)"
   ]
  },
  {
   "cell_type": "code",
   "execution_count": 36,
   "metadata": {},
   "outputs": [
    {
     "name": "stdout",
     "output_type": "stream",
     "text": [
      "{'AEB': 0.0, 'CB': 0.0, 'CIO': 0.0, 'CIPO': 0.0, 'CMS': 0.0, 'DMO': 0.0, 'DTSS': 0.0, 'IC': 0.0, 'IS': 0.26, 'MIN': 0.0, 'OCS': 0.14, 'OCSA': 0.0, 'SBMS': 0.01, 'SCMS': 0.0, 'SIPS': 0.92, 'SRS': 0.0, 'STS': 0.0}\n"
     ]
    }
   ],
   "source": [
    "print(send_request.json())"
   ]
  },
  {
   "cell_type": "code",
   "execution_count": null,
   "metadata": {},
   "outputs": [],
   "source": []
  }
 ],
 "metadata": {
  "kernelspec": {
   "display_name": "Python 3",
   "language": "python",
   "name": "python3"
  },
  "language_info": {
   "codemirror_mode": {
    "name": "ipython",
    "version": 3
   },
   "file_extension": ".py",
   "mimetype": "text/x-python",
   "name": "python",
   "nbconvert_exporter": "python",
   "pygments_lexer": "ipython3",
   "version": "3.7.1"
  }
 },
 "nbformat": 4,
 "nbformat_minor": 2
}
